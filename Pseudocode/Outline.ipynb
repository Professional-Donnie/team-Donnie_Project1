{
 "cells": [
  {
   "cell_type": "markdown",
   "id": "c6b0bd0f-d90c-49ea-a7b7-983d6e2aeef4",
   "metadata": {},
   "source": [
    "Pseudocode secton: \n",
    "This is the idea layer and beneath that I get everything done. \n",
    "I will make branches based off of these notes when I start trying to implement features. "
   ]
  },
  {
   "cell_type": "markdown",
   "id": "ce290d8a-efbd-4225-88cc-2df13e6768f2",
   "metadata": {},
   "source": [
    "So I am mostly data-cleaning files so that I can make charts based on given information. "
   ]
  },
  {
   "cell_type": "markdown",
   "id": "b9df5643-c155-482a-af94-91d942360ab8",
   "metadata": {},
   "source": [
    "This project should be separated into data-cleaning, making charts, and Selecting Data "
   ]
  },
  {
   "cell_type": "markdown",
   "id": "6f705d01-d3a4-49db-adeb-00abf8f49575",
   "metadata": {},
   "source": [
    "Data Cleaning Can be separated into \n",
    "Reading the Raw File\n",
    "Changing Datatypes\n",
    "Creating Objects\n",
    "Throwing out Unusable Data\n",
    "Creating Data Slices [Making sets and conditions]"
   ]
  },
  {
   "cell_type": "markdown",
   "id": "4bb70739-f3f6-4a47-9e44-a270b69f93a1",
   "metadata": {},
   "source": [
    "Making charts is based on\n",
    "Reading Data Slice\n",
    "Filtering Data Slice for Proper Chart\n",
    "Making Chart\n",
    "Adjusting Proportions (Use a try except statement)\n",
    "Changing Colors"
   ]
  },
  {
   "cell_type": "markdown",
   "id": "042b3a6d-be9f-4f0a-af5b-83a9a17d6abc",
   "metadata": {},
   "source": [
    "\n",
    "Selecting Data is focused on making distinctions and follows:\n",
    "Filter into Useable and Unusable\n",
    "From Useable do not use inference but focus on what we know. What does the data make us think of. There are future questions we will want to know. What does the dataset miss. What data can we look for to get us more information. \n",
    "[Basically, we now know this exists what will we do now?]\n",
    "Also note signifiant things we could not prove. \n",
    "As to what could be relevant in the direction we are now heading. \n",
    "This also means we would be looking for future datasets that could provide us this information. This is where the story comes in. "
   ]
  }
 ],
 "metadata": {
  "kernelspec": {
   "display_name": "eDX_Project_3.12.7",
   "language": "python",
   "name": "edx_project_3.12.7"
  },
  "language_info": {
   "codemirror_mode": {
    "name": "ipython",
    "version": 3
   },
   "file_extension": ".py",
   "mimetype": "text/x-python",
   "name": "python",
   "nbconvert_exporter": "python",
   "pygments_lexer": "ipython3",
   "version": "3.12.7"
  }
 },
 "nbformat": 4,
 "nbformat_minor": 5
}
